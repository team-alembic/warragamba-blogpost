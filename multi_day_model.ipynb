{
 "cells": [
  {
   "attachments": {},
   "cell_type": "markdown",
   "metadata": {},
   "source": [
    "# Multi Day Model\n",
    "\n",
    "Combining rainfall data and stream flow make the model better at predicting extreme changes in water level. Now we will input multiple days worth of data into the neural network to predict the next day."
   ]
  },
  {
   "cell_type": "code",
   "execution_count": null,
   "metadata": {},
   "outputs": [],
   "source": [
    "# imports, setup and helper functions\n",
    "import numpy as np\n",
    "import pandas as pd\n",
    "import altair as alt\n",
    "import requests\n",
    "import json\n",
    "from datetime import datetime\n",
    "import pprint\n",
    "import tensorflow as tf\n",
    "\n",
    "from tensorflow import keras\n",
    "from tensorflow.keras import layers\n",
    "\n",
    "water_level_df = pd.read_csv(\"datasets/warragamba_dam_level_raw_2008_2022.csv\", index_col=0)\n",
    "rainfall_df = pd.read_csv(\"datasets/rainfall_within_0.2_lat_degrees_of_warragamba_dam_2008_2022.csv\", index_col=0)\n",
    "stream_df = pd.read_csv(\"datasets/cox_and_wollon_stream_level_2008-2022.csv\", index_col=0)"
   ]
  },
  {
   "cell_type": "code",
   "execution_count": null,
   "metadata": {},
   "outputs": [],
   "source": [
    "# clean water_level_df so that levels with quality code 201 or 255 are set to NaN\n",
    "\n",
    "print(water_level_df[\"q\"].unique())\n",
    "water_level_df.loc[water_level_df[\"q\"].isin([201,255]), \"v\"] = np.NaN\n",
    "\n",
    "water_level_df"
   ]
  },
  {
   "cell_type": "code",
   "execution_count": null,
   "metadata": {},
   "outputs": [],
   "source": [
    "# rename df columns to prepare for merge into main_df\n",
    "water_level_col = \"v_212242_130\"\n",
    "water_level_df = water_level_df.rename(columns={\"v\":\"v_212242_130\", \"q\":\"q_212242_130\"})"
   ]
  },
  {
   "cell_type": "code",
   "execution_count": null,
   "metadata": {},
   "outputs": [],
   "source": [
    "# join water_level and rainfall df by timestamp\n",
    "df = pd.merge(\n",
    "        left=water_level_df,\n",
    "        right=rainfall_df,\n",
    "        how=\"inner\",\n",
    "        on=\"t\"\n",
    "    )\n",
    "\n",
    "# join stream df to main df\n",
    "df = pd.merge(\n",
    "        left=df,\n",
    "        right=stream_df,\n",
    "        how=\"inner\",\n",
    "        on=\"t\"\n",
    "    )\n",
    "\n",
    "df"
   ]
  },
  {
   "cell_type": "code",
   "execution_count": null,
   "metadata": {},
   "outputs": [],
   "source": [
    "water_level = df[water_level_col]\n",
    "water_level_tomorrow = df[water_level_col].copy().shift(1, fill_value=0.0)\n",
    "\n",
    "df[\"water_level_difference\"] = water_level - water_level_tomorrow\n",
    "df"
   ]
  },
  {
   "cell_type": "code",
   "execution_count": null,
   "metadata": {},
   "outputs": [],
   "source": [
    "# add water level difference tomorrow and water level in 2 days time\n",
    "df[\"water_level_difference_plus_1\"] = df[\"water_level_difference\"].copy().shift(-1, fill_value=0.0)\n",
    "df[\"water_level_difference_plus_2\"] = df[\"water_level_difference\"].copy().shift(-2, fill_value=0.0)\n",
    "df[[\"water_level_difference\", \"water_level_difference_plus_1\", \"water_level_difference_plus_2\"]]"
   ]
  },
  {
   "cell_type": "code",
   "execution_count": null,
   "metadata": {},
   "outputs": [],
   "source": [
    "# if corresponding q_ (quality column) 201 or 255, set v_ column to 0.0\n",
    "\n",
    "value_cols = df.copy().filter(regex=\"^v_\").columns.to_list()\n",
    "print(value_cols)\n",
    "df.columns"
   ]
  },
  {
   "cell_type": "code",
   "execution_count": null,
   "metadata": {},
   "outputs": [],
   "source": [
    "quality_cols = df.filter(regex=\"^q_\").columns.to_list()\n",
    "print(quality_cols)"
   ]
  },
  {
   "cell_type": "code",
   "execution_count": null,
   "metadata": {},
   "outputs": [],
   "source": [
    "for value_col, quality_col in zip(value_cols, quality_cols):\n",
    "    df.loc[df[quality_col].isin([201, 255]), value_col] = 0.0\n",
    "    \n",
    "df"
   ]
  },
  {
   "cell_type": "code",
   "execution_count": null,
   "metadata": {},
   "outputs": [],
   "source": [
    "# remove quality columns\n",
    "df = df.loc[:, ~df.columns.str.contains('^q_')]\n",
    "\n",
    "df"
   ]
  },
  {
   "cell_type": "code",
   "execution_count": null,
   "metadata": {},
   "outputs": [],
   "source": [
    "# Copy value columns, shift down by 1 and join to data frame.\n",
    "# This will mean each column will have data for the current day and the previous day.\n",
    "\n",
    "yesterday_values = df[value_cols].copy().shift(1, fill_value=0.0)\n",
    "day_minus_2_values = df[value_cols].copy().shift(2, fill_value=0.0)\n",
    "\n",
    "\n",
    "yesterday_columns = list(map(lambda c: f\"{c}_dm1\", value_cols))\n",
    "day_minus_2_columns = list(map(lambda c: f\"{c}_dm2\", value_cols))\n",
    "\n",
    "yesterday_values = yesterday_values.rename(columns=dict(zip(value_cols, yesterday_columns)))\n",
    "day_minus_2_values = day_minus_2_values.rename(columns=dict(zip(value_cols, day_minus_2_columns)))\n",
    "\n",
    "df = pd.concat([df, yesterday_values, day_minus_2_values], axis=1)\n",
    "df"
   ]
  },
  {
   "cell_type": "code",
   "execution_count": null,
   "metadata": {},
   "outputs": [],
   "source": [
    "# remove row if 'water_level_difference' NaN\n",
    "df = df.loc[~df[\"water_level_difference\"].isnull()]\n",
    "df"
   ]
  },
  {
   "cell_type": "code",
   "execution_count": null,
   "metadata": {},
   "outputs": [],
   "source": [
    "# separate training data from testing data\n",
    "# separate features from labels\n",
    "\n",
    "train_data = df.copy().sample(frac=0.8, random_state=12345)\n",
    "test_data = df.copy().drop(train_data.index)\n",
    "\n",
    "train_features = train_data.copy()\n",
    "test_features = test_data.copy()\n",
    "\n",
    "train_labels = train_features.pop(\"water_level_difference\")\n",
    "test_labels = test_features.pop(\"water_level_difference\")"
   ]
  },
  {
   "cell_type": "code",
   "execution_count": null,
   "metadata": {},
   "outputs": [],
   "source": [
    "feature_columns = train_features.filter(regex=\"^v_.*_(100|10).*$\").columns"
   ]
  },
  {
   "cell_type": "code",
   "execution_count": null,
   "metadata": {},
   "outputs": [],
   "source": [
    "# created normaliser which will normalise input via (input - mean) / sqrt(var)\n",
    "np_train_features = train_features[feature_columns]\n",
    "np_train_labels = train_labels.values\n",
    "np_train_labels = np_train_labels.reshape(-1, 1)\n",
    "\n",
    "np_test_features = test_features[feature_columns].values\n",
    "np_test_labels = test_labels.values\n",
    "\n",
    "normaliser = tf.keras.layers.Normalization(axis=1)\n",
    "normaliser.adapt(np_train_features)\n",
    "\n",
    "display(np_train_features)\n"
   ]
  },
  {
   "cell_type": "code",
   "execution_count": null,
   "metadata": {},
   "outputs": [],
   "source": [
    "test_model = tf.keras.Sequential(name=\"stream_rain_temporal_model\", layers=[\n",
    "    layers.Input(shape=(21,)),\n",
    "    normaliser,\n",
    "    layers.Dropout(rate=0.5),\n",
    "    layers.Dense(units=32, activation=\"relu\"),\n",
    "    layers.Dropout(rate=0.5),\n",
    "    layers.Dense(units=1)\n",
    "])\n",
    "\n",
    "test_model.summary()"
   ]
  },
  {
   "cell_type": "code",
   "execution_count": null,
   "metadata": {},
   "outputs": [],
   "source": [
    "# check it allows input that is the same shape as the features\n",
    "test_model.predict(np_train_features[0:1])"
   ]
  },
  {
   "cell_type": "code",
   "execution_count": null,
   "metadata": {},
   "outputs": [],
   "source": [
    "test_model.compile(\n",
    "    optimizer=tf.keras.optimizers.Adam(learning_rate=0.001),\n",
    "    loss='mean_absolute_error')"
   ]
  },
  {
   "cell_type": "code",
   "execution_count": null,
   "metadata": {},
   "outputs": [],
   "source": [
    "history = test_model.fit(\n",
    "    np_train_features,\n",
    "    np_train_labels,\n",
    "    epochs=50,\n",
    "    # Suppress logging.\n",
    "    verbose=1,\n",
    "    # Calculate validation results on 20% of the training data.\n",
    "    validation_split = 0.2)"
   ]
  },
  {
   "cell_type": "code",
   "execution_count": null,
   "metadata": {},
   "outputs": [],
   "source": [
    "hist_df = pd.DataFrame(history.history)\n",
    "hist_df[\"epoch\"] = history.epoch\n",
    "\n",
    "alt.Chart(hist_df).mark_line().encode(\n",
    "    x=\"epoch:Q\",\n",
    "    y=\"loss:Q\"\n",
    ") + alt.Chart(hist_df).mark_line(color=\"orange\").encode(\n",
    "    x=\"epoch:Q\",\n",
    "    y=\"val_loss:Q\"\n",
    ")"
   ]
  },
  {
   "cell_type": "code",
   "execution_count": null,
   "metadata": {},
   "outputs": [],
   "source": [
    "test_model.evaluate(np_test_features, np_test_labels)"
   ]
  },
  {
   "cell_type": "code",
   "execution_count": null,
   "metadata": {},
   "outputs": [],
   "source": [
    "# compare predictions to real values of training set\n",
    "\n",
    "y = test_model.predict(df[feature_columns].values)\n",
    "\n",
    "compare_df = pd.DataFrame({\n",
    "    \"t\": df[[\"t\"]].values.flatten(),\n",
    "    \"actual\": df[[\"water_level_difference\"]].values.flatten(),\n",
    "    \"prediction\": y.flatten()\n",
    "})\n",
    "\n",
    "compare_df.describe()"
   ]
  },
  {
   "cell_type": "code",
   "execution_count": null,
   "metadata": {},
   "outputs": [],
   "source": [
    "base = alt.Chart(compare_df.reset_index()[0:5000]).encode(\n",
    "    x=\"index:Q\"\n",
    ")\n",
    "\n",
    "(base.mark_line().encode(\n",
    "    y=\"actual:Q\"\n",
    ") + base.mark_line(color=\"orange\").encode(\n",
    "    y=\"prediction:Q\"\n",
    ")).interactive()"
   ]
  }
 ],
 "metadata": {
  "kernelspec": {
   "display_name": "warragamba-blogpost-FG-3Jor--py3.10",
   "language": "python",
   "name": "python3"
  },
  "language_info": {
   "codemirror_mode": {
    "name": "ipython",
    "version": 3
   },
   "file_extension": ".py",
   "mimetype": "text/x-python",
   "name": "python",
   "nbconvert_exporter": "python",
   "pygments_lexer": "ipython3",
   "version": "3.10.9"
  },
  "orig_nbformat": 4,
  "vscode": {
   "interpreter": {
    "hash": "32af6703f6de197a785ed248fd050900b54929d05b2cd99dec9c67c83648d162"
   }
  }
 },
 "nbformat": 4,
 "nbformat_minor": 2
}
